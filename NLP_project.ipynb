{
 "cells": [
  {
   "cell_type": "code",
   "execution_count": 124,
   "id": "79b889f9-bcb0-4dc1-9cae-7c53d966f060",
   "metadata": {},
   "outputs": [
    {
     "name": "stderr",
     "output_type": "stream",
     "text": [
      "[nltk_data] Downloading package stopwords to\n",
      "[nltk_data]     C:\\Users\\COMPUMARTS\\AppData\\Roaming\\nltk_data...\n",
      "[nltk_data]   Package stopwords is already up-to-date!\n",
      "[nltk_data] Downloading package wordnet to\n",
      "[nltk_data]     C:\\Users\\COMPUMARTS\\AppData\\Roaming\\nltk_data...\n",
      "[nltk_data]   Package wordnet is already up-to-date!\n"
     ]
    },
    {
     "data": {
      "text/plain": [
       "True"
      ]
     },
     "execution_count": 124,
     "metadata": {},
     "output_type": "execute_result"
    }
   ],
   "source": [
    "nltk.download('stopwords')\n",
    "nltk.download('wordnet')"
   ]
  },
  {
   "cell_type": "code",
   "execution_count": null,
   "id": "a7869824-6883-489b-84ab-569e921e1214",
   "metadata": {},
   "outputs": [],
   "source": [
    "!pip install xgboost"
   ]
  },
  {
   "cell_type": "code",
   "execution_count": 225,
   "id": "3913f133-0bec-409a-bc3b-0319611301c1",
   "metadata": {},
   "outputs": [
    {
     "name": "stdout",
     "output_type": "stream",
     "text": [
      "Accuracy:\n",
      "Support Vector Classifier: 0.72\n",
      "Random Forest Classifier: 0.66\n",
      "Gradient Boosting Classifier: 0.70\n",
      "XGBoost Classifier: 0.64\n"
     ]
    }
   ],
   "source": [
    "import pandas as pd\n",
    "from sklearn.model_selection import train_test_split, GridSearchCV\n",
    "from sklearn.feature_extraction.text import TfidfVectorizer\n",
    "from sklearn.metrics.pairwise import cosine_similarity\n",
    "from sklearn.metrics import accuracy_score\n",
    "import numpy as np\n",
    "import nltk\n",
    "from nltk.corpus import stopwords\n",
    "from nltk.stem import WordNetLemmatizer\n",
    "from sklearn.svm import SVC\n",
    "from sklearn.ensemble import RandomForestClassifier, GradientBoostingClassifier\n",
    "from xgboost import XGBClassifier\n",
    "\n",
    "data = pd.read_csv('dataset.csv')\n",
    "\n",
    "def preprocess_text(text):\n",
    "    return ' '.join([WordNetLemmatizer().lemmatize(word) for word in text.lower().split() if word not in stopwords.words('english')]) if isinstance(text, str) else \"\"\n",
    "    \n",
    "data['question1'] = data['question1'].apply(preprocess_text)\n",
    "data['question2'] = data['question2'].apply(preprocess_text)\n",
    "\n",
    "X = data[['question1', 'question2']]\n",
    "y = data['is_duplicate']\n",
    "X_train, X_test, y_train, y_test = train_test_split(X, y, test_size=0.2, random_state=42)\n",
    "\n",
    "train_pairs_q1 = X_train['question1']\n",
    "train_pairs_q2 = X_train['question2']\n",
    "test_pairs_q1 = X_test['question1']\n",
    "test_pairs_q2 = X_test['question2']\n",
    "\n",
    "vectorizer = TfidfVectorizer(ngram_range=(1, 2))\n",
    "tfidf_train_q1 = vectorizer.fit_transform(train_pairs_q1)\n",
    "tfidf_train_q2 = vectorizer.transform(train_pairs_q2)\n",
    "tfidf_test_q1 = vectorizer.transform(test_pairs_q1)\n",
    "tfidf_test_q2 = vectorizer.transform(test_pairs_q2)\n",
    "\n",
    "cosine_sim_train = cosine_similarity(tfidf_train_q1, tfidf_train_q2).diagonal()\n",
    "cosine_sim_test = cosine_similarity(tfidf_test_q1, tfidf_test_q2).diagonal()\n",
    "\n",
    "X_train_cosine = cosine_sim_train.reshape(-1, 1)\n",
    "X_test_cosine = cosine_sim_test.reshape(-1, 1)\n",
    "\n",
    "models = {\n",
    "    'Support Vector Classifier': SVC(C=1),\n",
    "    'Random Forest Classifier': RandomForestClassifier(n_estimators=89, min_samples_split=2, min_samples_leaf=1),\n",
    "    'Gradient Boosting Classifier': GradientBoostingClassifier(n_estimators=45, learning_rate=0.3),\n",
    "    'XGBoost Classifier': XGBClassifier(n_estimators=12, learning_rate=0.3)\n",
    "}\n",
    "\n",
    "results = {}\n",
    "for name, model in models.items():\n",
    "    model.fit(X_train_cosine, y_train)\n",
    "    y_pred = model.predict(X_test_cosine)\n",
    "    accuracy = accuracy_score(y_test, y_pred)\n",
    "    results[name] = accuracy\n",
    "print(\"Accuracy:\")\n",
    "for name, accuracy in results.items():\n",
    "    print(f\"{name}: {accuracy:.2f}\")\n"
   ]
  },
  {
   "cell_type": "code",
   "execution_count": null,
   "id": "b804da32-c82d-4260-b8b2-9514cb295c22",
   "metadata": {},
   "outputs": [],
   "source": []
  },
  {
   "cell_type": "code",
   "execution_count": null,
   "id": "6704faab-7808-405f-9530-5b258c36d7ee",
   "metadata": {},
   "outputs": [],
   "source": []
  }
 ],
 "metadata": {
  "kernelspec": {
   "display_name": "Python 3 (ipykernel)",
   "language": "python",
   "name": "python3"
  },
  "language_info": {
   "codemirror_mode": {
    "name": "ipython",
    "version": 3
   },
   "file_extension": ".py",
   "mimetype": "text/x-python",
   "name": "python",
   "nbconvert_exporter": "python",
   "pygments_lexer": "ipython3",
   "version": "3.12.4"
  }
 },
 "nbformat": 4,
 "nbformat_minor": 5
}
